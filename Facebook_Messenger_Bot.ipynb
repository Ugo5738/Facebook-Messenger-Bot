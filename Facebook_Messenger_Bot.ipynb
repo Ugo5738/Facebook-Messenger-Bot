{
  "nbformat": 4,
  "nbformat_minor": 0,
  "metadata": {
    "colab": {
      "name": "Facebook Messenger Bot.ipynb",
      "provenance": [],
      "authorship_tag": "ABX9TyOkB6GZAYU4eAHB6IsS1mBX",
      "include_colab_link": true
    },
    "kernelspec": {
      "name": "python3",
      "display_name": "Python 3"
    }
  },
  "cells": [
    {
      "cell_type": "markdown",
      "metadata": {
        "id": "view-in-github",
        "colab_type": "text"
      },
      "source": [
        "<a href=\"https://colab.research.google.com/github/Ugo5738/Facebook-Messenger-Bot/blob/main/Facebook_Messenger_Bot.ipynb\" target=\"_parent\"><img src=\"https://colab.research.google.com/assets/colab-badge.svg\" alt=\"Open In Colab\"/></a>"
      ]
    },
    {
      "cell_type": "code",
      "metadata": {
        "id": "ggzZFPNqw_--"
      },
      "source": [
        "from flask import Flask, request\n",
        "from pymessenger import Bot\n",
        "from utils import fetch_reply\n",
        "\n",
        "\n",
        "app = Flask(\"My news bot\")\n",
        "\n",
        "FB_ACCESS_TOKEN = \"PAGE_ACCESS_TOKEN_HERE\"\n",
        "bot = Bot(FB_ACCESS_TOKEN)\n",
        "\n",
        "VERIFICATION_TOKEN = \"hello\"\n",
        "\n",
        "\n",
        "@app.route('/', methods=['GET'])\n",
        "def verify():\n",
        "\tif request.args.get(\"hub.mode\") == \"subscribe\" and request.args.get(\"hub.challenge\"):\n",
        "\t\tif not request.args.get(\"hub.verify_token\") == VERIFICATION_TOKEN:\n",
        "\t\t\treturn \"Verification token mismatch\", 403\n",
        "\t\treturn request.args[\"hub.challenge\"], 200\n",
        "\treturn \"Hello world\", 200\n",
        "\n",
        "\n",
        "@app.route('/', methods=['POST'])\n",
        "def webhook():\n",
        "\tprint(request.data)\n",
        "\tdata = request.get_json()\n",
        "\n",
        "\tif data['object'] == \"page\":\n",
        "\t\tentries = data['entry']\n",
        "\n",
        "\t\tfor entry in entries:\n",
        "\t\t\tmessaging = entry['messaging']\n",
        "\n",
        "\t\t\tfor messaging_event in messaging:\n",
        "\n",
        "\t\t\t\tsender_id = messaging_event['sender']['id']\n",
        "\t\t\t\trecipient_id = messaging_event['recipient']['id']\n",
        "\n",
        "\t\t\t\tif messaging_event.get('message'):\n",
        "\t\t\t\t\t# HANDLE NORMAL MESSAGES HERE\n",
        "\n",
        "\t\t\t\t\tif messaging_event['message'].get('text'):\n",
        "\t\t\t\t\t\t# HANDLE TEXT MESSAGES\n",
        "\n",
        "\t\t\t\t\t\tquery = messaging_event['message']['text']\n",
        "\t\t\t\t\t\treply = fetch_reply(query, sender_id)\n",
        "\t\t\t\t\t\tbot.send_text_message(sender_id, reply)\t\t\t\t\t\n",
        "\treturn \"ok\", 200\n",
        "\n",
        "\n",
        "if __name__ == \"__main__\":\n",
        "\tapp.run(port=8000, use_reloader = True)"
      ],
      "execution_count": null,
      "outputs": []
    }
  ]
}